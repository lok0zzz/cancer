{
 "cells": [
  {
   "attachments": {},
   "cell_type": "markdown",
   "metadata": {},
   "source": [
    "![image.png](attachment:image.png)\n",
    "\n",
    "Cancer is the name of the accumulation uncontrolled of cells what create a tumor, if this tumor is a malignant tumor, this tumor can invade other organs and cell tissues.\n",
    "\n",
    "The origin of the accumulation can be for multiple reasons. For example: genetics, mutations or just for the immune system not recognizing the tumor and let it grow uncontrollably.\n",
    "\n",
    "The knowledge of the cancer dates back to 7 b.C, in Egypit who says: \"lumps on the chest (...) that spread. Since this, the cancer since then, studies regarding the malignant tumor have never stopped, until today there is no cure for cancer, but treatments.\n",
    "\n",
    "- _\"Cancer is the second leading cause of death in the world and is responsible for 9.6 million deaths in 2018. Globally, one in six deaths is related to the disease\"_ [PAHO](\"https://www.paho.org/pt/topicos/cancer\")\n",
    "\n",
    "In this Data Science project, we will create a model what can be used to recognize belign tumors and malignant tumors with a low probability of mistakes."
   ]
  },
  {
   "attachments": {},
   "cell_type": "markdown",
   "metadata": {},
   "source": [
    "* Import of the libraries\n"
   ]
  },
  {
   "cell_type": "code",
   "execution_count": null,
   "metadata": {},
   "outputs": [],
   "source": []
  }
 ],
 "metadata": {
  "language_info": {
   "name": "python"
  },
  "orig_nbformat": 4
 },
 "nbformat": 4,
 "nbformat_minor": 2
}
